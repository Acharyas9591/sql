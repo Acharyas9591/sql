{
 "cells": [
  {
   "cell_type": "code",
   "execution_count": null,
   "id": "1828641a",
   "metadata": {},
   "outputs": [],
   "source": [
    "1) Count the number of Salesperson whose name begin with ‘a’/’A.\n",
    "\n",
    "select count(Sname) from \n",
    "salesPeople where Sname like 'a%' or Sname like 'A%';\n",
    "\n",
    "2) Display all the Salesperson whose all orders worth is more than Rs. 2000.\n",
    "\n",
    "select * from snum\n",
    "order\n",
    "3) Count the number of Salesperson belonging to Newyork.\n",
    "\n",
    "select count(Sname) from SalesPeople\n",
    "where city ='Newyork';\n",
    "4) Display the number of Salespeople belonging to London and belonging to Paris.\n",
    "\n",
    "select * from SalesPeople\n",
    "where city='London' and city='Paris';\n",
    "5) Display the number of orders taken by each Salesperson and their date of orders.\n",
    "\n",
    "select orders.Onum, SalesPeople.Snum, Orders.Odate\n",
    "from Orders\n",
    "inner join SalesPeople ON Orders.Snum=Salesperson.Snum;"
   ]
  }
 ],
 "metadata": {
  "kernelspec": {
   "display_name": "Python 3 (ipykernel)",
   "language": "python",
   "name": "python3"
  },
  "language_info": {
   "codemirror_mode": {
    "name": "ipython",
    "version": 3
   },
   "file_extension": ".py",
   "mimetype": "text/x-python",
   "name": "python",
   "nbconvert_exporter": "python",
   "pygments_lexer": "ipython3",
   "version": "3.9.12"
  }
 },
 "nbformat": 4,
 "nbformat_minor": 5
}
